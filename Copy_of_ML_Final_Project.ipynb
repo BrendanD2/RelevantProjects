{
  "nbformat": 4,
  "nbformat_minor": 0,
  "metadata": {
    "colab": {
      "provenance": [],
      "include_colab_link": true
    },
    "kernelspec": {
      "name": "python3",
      "display_name": "Python 3"
    },
    "language_info": {
      "name": "python"
    }
  },
  "cells": [
    {
      "cell_type": "markdown",
      "metadata": {
        "id": "view-in-github",
        "colab_type": "text"
      },
      "source": [
        "<a href=\"https://colab.research.google.com/github/BrendanD2/RelevantProjects/blob/main/Copy_of_ML_Final_Project.ipynb\" target=\"_parent\"><img src=\"https://colab.research.google.com/assets/colab-badge.svg\" alt=\"Open In Colab\"/></a>"
      ]
    },
    {
      "cell_type": "markdown",
      "source": [
        "https://github.com/jldbc/pybaseball repository used for gathering player statistics"
      ],
      "metadata": {
        "id": "5ATUal8HreET"
      }
    },
    {
      "cell_type": "code",
      "source": [
        "pip install pybaseball"
      ],
      "metadata": {
        "id": "I7PyCsugzAJn",
        "colab": {
          "base_uri": "https://localhost:8080/"
        },
        "outputId": "5f8b44db-0d68-48e6-88f4-0ac3995a36d0"
      },
      "execution_count": 1,
      "outputs": [
        {
          "output_type": "stream",
          "name": "stdout",
          "text": [
            "Collecting pybaseball\n",
            "  Downloading pybaseball-2.2.7-py3-none-any.whl (426 kB)\n",
            "\u001b[2K     \u001b[90m━━━━━━━━━━━━━━━━━━━━━━━━━━━━━━━━━━━━━━━━\u001b[0m \u001b[32m426.1/426.1 kB\u001b[0m \u001b[31m9.3 MB/s\u001b[0m eta \u001b[36m0:00:00\u001b[0m\n",
            "\u001b[?25hRequirement already satisfied: numpy>=1.13.0 in /usr/local/lib/python3.10/dist-packages (from pybaseball) (1.23.5)\n",
            "Requirement already satisfied: pandas>=1.0.3 in /usr/local/lib/python3.10/dist-packages (from pybaseball) (1.5.3)\n",
            "Requirement already satisfied: beautifulsoup4>=4.4.0 in /usr/local/lib/python3.10/dist-packages (from pybaseball) (4.11.2)\n",
            "Requirement already satisfied: requests>=2.18.1 in /usr/local/lib/python3.10/dist-packages (from pybaseball) (2.31.0)\n",
            "Requirement already satisfied: lxml>=4.2.1 in /usr/local/lib/python3.10/dist-packages (from pybaseball) (4.9.3)\n",
            "Requirement already satisfied: pyarrow>=1.0.1 in /usr/local/lib/python3.10/dist-packages (from pybaseball) (9.0.0)\n",
            "Collecting pygithub>=1.51 (from pybaseball)\n",
            "  Downloading PyGithub-2.1.1-py3-none-any.whl (302 kB)\n",
            "\u001b[2K     \u001b[90m━━━━━━━━━━━━━━━━━━━━━━━━━━━━━━━━━━━━━━━━\u001b[0m \u001b[32m302.9/302.9 kB\u001b[0m \u001b[31m17.5 MB/s\u001b[0m eta \u001b[36m0:00:00\u001b[0m\n",
            "\u001b[?25hRequirement already satisfied: scipy>=1.4.0 in /usr/local/lib/python3.10/dist-packages (from pybaseball) (1.11.3)\n",
            "Requirement already satisfied: matplotlib>=2.0.0 in /usr/local/lib/python3.10/dist-packages (from pybaseball) (3.7.1)\n",
            "Requirement already satisfied: tqdm>=4.50.0 in /usr/local/lib/python3.10/dist-packages (from pybaseball) (4.66.1)\n",
            "Requirement already satisfied: attrs>=20.3.0 in /usr/local/lib/python3.10/dist-packages (from pybaseball) (23.1.0)\n",
            "Requirement already satisfied: soupsieve>1.2 in /usr/local/lib/python3.10/dist-packages (from beautifulsoup4>=4.4.0->pybaseball) (2.5)\n",
            "Requirement already satisfied: contourpy>=1.0.1 in /usr/local/lib/python3.10/dist-packages (from matplotlib>=2.0.0->pybaseball) (1.2.0)\n",
            "Requirement already satisfied: cycler>=0.10 in /usr/local/lib/python3.10/dist-packages (from matplotlib>=2.0.0->pybaseball) (0.12.1)\n",
            "Requirement already satisfied: fonttools>=4.22.0 in /usr/local/lib/python3.10/dist-packages (from matplotlib>=2.0.0->pybaseball) (4.44.0)\n",
            "Requirement already satisfied: kiwisolver>=1.0.1 in /usr/local/lib/python3.10/dist-packages (from matplotlib>=2.0.0->pybaseball) (1.4.5)\n",
            "Requirement already satisfied: packaging>=20.0 in /usr/local/lib/python3.10/dist-packages (from matplotlib>=2.0.0->pybaseball) (23.2)\n",
            "Requirement already satisfied: pillow>=6.2.0 in /usr/local/lib/python3.10/dist-packages (from matplotlib>=2.0.0->pybaseball) (9.4.0)\n",
            "Requirement already satisfied: pyparsing>=2.3.1 in /usr/local/lib/python3.10/dist-packages (from matplotlib>=2.0.0->pybaseball) (3.1.1)\n",
            "Requirement already satisfied: python-dateutil>=2.7 in /usr/local/lib/python3.10/dist-packages (from matplotlib>=2.0.0->pybaseball) (2.8.2)\n",
            "Requirement already satisfied: pytz>=2020.1 in /usr/local/lib/python3.10/dist-packages (from pandas>=1.0.3->pybaseball) (2023.3.post1)\n",
            "Collecting pynacl>=1.4.0 (from pygithub>=1.51->pybaseball)\n",
            "  Downloading PyNaCl-1.5.0-cp36-abi3-manylinux_2_17_x86_64.manylinux2014_x86_64.manylinux_2_24_x86_64.whl (856 kB)\n",
            "\u001b[2K     \u001b[90m━━━━━━━━━━━━━━━━━━━━━━━━━━━━━━━━━━━━━━━━\u001b[0m \u001b[32m856.7/856.7 kB\u001b[0m \u001b[31m19.7 MB/s\u001b[0m eta \u001b[36m0:00:00\u001b[0m\n",
            "\u001b[?25hCollecting pyjwt[crypto]>=2.4.0 (from pygithub>=1.51->pybaseball)\n",
            "  Downloading PyJWT-2.8.0-py3-none-any.whl (22 kB)\n",
            "Requirement already satisfied: typing-extensions>=4.0.0 in /usr/local/lib/python3.10/dist-packages (from pygithub>=1.51->pybaseball) (4.5.0)\n",
            "Requirement already satisfied: urllib3>=1.26.0 in /usr/local/lib/python3.10/dist-packages (from pygithub>=1.51->pybaseball) (2.0.7)\n",
            "Collecting Deprecated (from pygithub>=1.51->pybaseball)\n",
            "  Downloading Deprecated-1.2.14-py2.py3-none-any.whl (9.6 kB)\n",
            "Requirement already satisfied: charset-normalizer<4,>=2 in /usr/local/lib/python3.10/dist-packages (from requests>=2.18.1->pybaseball) (3.3.2)\n",
            "Requirement already satisfied: idna<4,>=2.5 in /usr/local/lib/python3.10/dist-packages (from requests>=2.18.1->pybaseball) (3.4)\n",
            "Requirement already satisfied: certifi>=2017.4.17 in /usr/local/lib/python3.10/dist-packages (from requests>=2.18.1->pybaseball) (2023.7.22)\n",
            "Requirement already satisfied: cryptography>=3.4.0 in /usr/local/lib/python3.10/dist-packages (from pyjwt[crypto]>=2.4.0->pygithub>=1.51->pybaseball) (41.0.5)\n",
            "Requirement already satisfied: cffi>=1.4.1 in /usr/local/lib/python3.10/dist-packages (from pynacl>=1.4.0->pygithub>=1.51->pybaseball) (1.16.0)\n",
            "Requirement already satisfied: six>=1.5 in /usr/local/lib/python3.10/dist-packages (from python-dateutil>=2.7->matplotlib>=2.0.0->pybaseball) (1.16.0)\n",
            "Requirement already satisfied: wrapt<2,>=1.10 in /usr/local/lib/python3.10/dist-packages (from Deprecated->pygithub>=1.51->pybaseball) (1.14.1)\n",
            "Requirement already satisfied: pycparser in /usr/local/lib/python3.10/dist-packages (from cffi>=1.4.1->pynacl>=1.4.0->pygithub>=1.51->pybaseball) (2.21)\n",
            "Installing collected packages: pyjwt, Deprecated, pynacl, pygithub, pybaseball\n",
            "  Attempting uninstall: pyjwt\n",
            "    Found existing installation: PyJWT 2.3.0\n",
            "    Uninstalling PyJWT-2.3.0:\n",
            "      Successfully uninstalled PyJWT-2.3.0\n",
            "Successfully installed Deprecated-1.2.14 pybaseball-2.2.7 pygithub-2.1.1 pyjwt-2.8.0 pynacl-1.5.0\n"
          ]
        }
      ]
    },
    {
      "cell_type": "code",
      "execution_count": 2,
      "metadata": {
        "id": "X_gMDThDy1Ak"
      },
      "outputs": [],
      "source": [
        "from pybaseball import batting_stats\n",
        "import pandas as pd\n",
        "\n",
        "# This is where you can pick the year. We chose 2017 and 2018.\n",
        "# You can run a 2 year regression as well, chosing 2017 and 2019\n",
        "# if you wanted to look further into the future.\n",
        "\n",
        "data = batting_stats('2017')[['Name', 'Age', 'G', 'AB', 'PA', 'H', '1B', '2B', '3B', 'HR', 'R', 'RBI', 'BB']]\n",
        "data2 = batting_stats('2018')\n",
        "\n",
        "# There are multiple different options here. You can run a model against any variable.\n",
        "# Examples:\n",
        "#\n",
        "# This will run a regression based on their hits next season\n",
        "# data3 = data2['H']\n",
        "# This will run a regression based on their runs next season\n",
        "data3 = data2['R']\n",
        "\n",
        "data4 = data2['Name']\n",
        "data5= {'regVar':data3,'Name':data4}\n",
        "data5 = pd.DataFrame(data5)\n",
        "df = pd.merge(data, data5, on='Name', how='inner').drop(['Name'], axis=1)"
      ]
    },
    {
      "cell_type": "code",
      "source": [
        "import matplotlib.pyplot as plt\n",
        "\n",
        "plt.bar(df['Age'], df['regVar'])\n",
        "plt.xlabel('Age')\n",
        "plt.ylabel('Runs')\n",
        "plt.show()"
      ],
      "metadata": {
        "colab": {
          "base_uri": "https://localhost:8080/",
          "height": 449
        },
        "id": "gD7DcvLHwT99",
        "outputId": "72c85c8b-7ab6-4bcc-8721-adb619400849"
      },
      "execution_count": 3,
      "outputs": [
        {
          "output_type": "display_data",
          "data": {
            "text/plain": [
              "<Figure size 640x480 with 1 Axes>"
            ],
            "image/png": "[encoded data removed]"
          },
          "metadata": {}
        }
      ]
    },
    {
      "cell_type": "code",
      "source": [
        "plt.scatter(df['2B'], df['regVar'])\n",
        "plt.xlabel('2B')\n",
        "plt.ylabel('Runs')\n",
        "plt.show()"
      ],
      "metadata": {
        "colab": {
          "base_uri": "https://localhost:8080/",
          "height": 449
        },
        "id": "-au1MTqNFeqm",
        "outputId": "4d0a8670-4b60-4959-e158-96f2fdde5bb1"
      },
      "execution_count": 4,
      "outputs": [
        {
          "output_type": "display_data",
          "data": {
            "text/plain": [
              "<Figure size 640x480 with 1 Axes>"
            ],
            "image/png": "[encoded data removed]"
          },
          "metadata": {}
        }
      ]
    },
    {
      "cell_type": "code",
      "source": [
        "plt.scatter(df['1B'], df['regVar'])\n",
        "plt.xlabel('1B')\n",
        "plt.ylabel('Runs')\n",
        "plt.show()"
      ],
      "metadata": {
        "colab": {
          "base_uri": "https://localhost:8080/",
          "height": 449
        },
        "id": "jszSissdFizU",
        "outputId": "902e0bd0-b707-4c18-d2ae-5f84064b79d8"
      },
      "execution_count": 5,
      "outputs": [
        {
          "output_type": "display_data",
          "data": {
            "text/plain": [
              "<Figure size 640x480 with 1 Axes>"
            ],
            "image/png": "[encoded data removed]"
          },
          "metadata": {}
        }
      ]
    },
    {
      "cell_type": "code",
      "source": [
        "plt.scatter(df['3B'], df['regVar'])\n",
        "plt.xlabel('3B')\n",
        "plt.ylabel('Runs')\n",
        "plt.show()"
      ],
      "metadata": {
        "colab": {
          "base_uri": "https://localhost:8080/",
          "height": 449
        },
        "id": "sTq3J-qmFlWe",
        "outputId": "f99abbcf-366c-4d6b-ad73-e71127c0c9db"
      },
      "execution_count": 6,
      "outputs": [
        {
          "output_type": "display_data",
          "data": {
            "text/plain": [
              "<Figure size 640x480 with 1 Axes>"
            ],
            "image/png": "[encoded data removed]"
          },
          "metadata": {}
        }
      ]
    },
    {
      "cell_type": "code",
      "source": [
        "plt.scatter(df['RBI'], df['regVar'])\n",
        "plt.xlabel('RBI')\n",
        "plt.ylabel('Runs')\n",
        "plt.show()"
      ],
      "metadata": {
        "id": "MYuqQhVuFsEc",
        "outputId": "e172d39f-3291-456a-a598-361fa72e9e01",
        "colab": {
          "base_uri": "https://localhost:8080/",
          "height": 449
        }
      },
      "execution_count": 7,
      "outputs": [
        {
          "output_type": "display_data",
          "data": {
            "text/plain": [
              "<Figure size 640x480 with 1 Axes>"
            ],
            "image/png": "[encoded data removed]"
          },
          "metadata": {}
        }
      ]
    },
    {
      "cell_type": "code",
      "source": [
        "plt.scatter(df['R'], df['regVar'])\n",
        "plt.xlabel('2017 Runs')\n",
        "plt.ylabel('2018 Runs')\n",
        "plt.show()"
      ],
      "metadata": {
        "colab": {
          "base_uri": "https://localhost:8080/",
          "height": 449
        },
        "id": "AHUDoj9m4Zda",
        "outputId": "b64169f3-0f02-4879-82d4-f97150fabe43"
      },
      "execution_count": 8,
      "outputs": [
        {
          "output_type": "display_data",
          "data": {
            "text/plain": [
              "<Figure size 640x480 with 1 Axes>"
            ],
            "image/png": "[encoded data removed]"
          },
          "metadata": {}
        }
      ]
    },
    {
      "cell_type": "code",
      "source": [
        "X = df.drop(['regVar'], axis = 1)\n",
        "y = pd.DataFrame(df['regVar'])\n",
        "\n",
        "from sklearn.model_selection import train_test_split\n",
        "\n",
        "X_train, X_test, y_train, y_test = train_test_split(X, y, test_size=0.30, random_state=42)"
      ],
      "metadata": {
        "id": "FDq6jSoy9D9g"
      },
      "execution_count": 9,
      "outputs": []
    },
    {
      "cell_type": "code",
      "source": [
        "X_train"
      ],
      "metadata": {
        "colab": {
          "base_uri": "https://localhost:8080/",
          "height": 424
        },
        "id": "ijiychsC9tpM",
        "outputId": "78b042e9-10af-4f32-a0a4-e618858db067"
      },
      "execution_count": 10,
      "outputs": [
        {
          "output_type": "execute_result",
          "data": {
            "text/plain": [
              "    Age    G   AB   PA    H   1B  2B  3B  HR   R  RBI   BB\n",
              "67   30  144  518  570  131   82  34   1  14  58   77   42\n",
              "31   27  162  603  671  192  135  31   1  25  98   94   66\n",
              "75   29  155  569  654  139   95  23   2  19  77   71   71\n",
              "9    27  147  508  605  153   86  41   1  25  81  100   84\n",
              "68   26  139  582  633  144  112  17  11   4  85   38   44\n",
              "..  ...  ...  ...  ...  ...  ...  ..  ..  ..  ..  ...  ...\n",
              "20   28  134  455  515  138   81  34   0  23  67   90   49\n",
              "60   33  139  529  564  158   96  43   1  18  69   75   22\n",
              "71   25  157  614  665  167   95  36  10  26  73  101   41\n",
              "14   27  158  589  647  164  110  38   2  14  77   69   47\n",
              "51   34  157  554  669  143   84  20   1  38  96  107  104\n",
              "\n",
              "[63 rows x 12 columns]"
            ],
            "text/html": [
              "\n",
              "  <div id=\"df-92ad26f3-c4ec-4000-abba-4d19f89bc15b\" class=\"colab-df-container\">\n",
              "    <div>\n",
              "<style scoped>\n",
              "    .dataframe tbody tr th:only-of-type {\n",
              "        vertical-align: middle;\n",
              "    }\n",
              "\n",
              "    .dataframe tbody tr th {\n",
              "        vertical-align: top;\n",
              "    }\n",
              "\n",
              "    .dataframe thead th {\n",
              "        text-align: right;\n",
              "    }\n",
              "</style>\n",
              "<table border=\"1\" class=\"dataframe\">\n",
              "  <thead>\n",
              "    <tr style=\"text-align: right;\">\n",
              "      <th></th>\n",
              "      <th>Age</th>\n",
              "      <th>G</th>\n",
              "      <th>AB</th>\n",
              "      <th>PA</th>\n",
              "      <th>H</th>\n",
              "      <th>1B</th>\n",
              "      <th>2B</th>\n",
              "      <th>3B</th>\n",
              "      <th>HR</th>\n",
              "      <th>R</th>\n",
              "      <th>RBI</th>\n",
              "      <th>BB</th>\n",
              "    </tr>\n",
              "  </thead>\n",
              "  <tbody>\n",
              "    <tr>\n",
              "      <th>67</th>\n",
              "      <td>30</td>\n",
              "      <td>144</td>\n",
              "      <td>518</td>\n",
              "      <td>570</td>\n",
              "      <td>131</td>\n",
              "      <td>82</td>\n",
              "      <td>34</td>\n",
              "      <td>1</td>\n",
              "      <td>14</td>\n",
              "      <td>58</td>\n",
              "      <td>77</td>\n",
              "      <td>42</td>\n",
              "    </tr>\n",
              "    <tr>\n",
              "      <th>31</th>\n",
              "      <td>27</td>\n",
              "      <td>162</td>\n",
              "      <td>603</td>\n",
              "      <td>671</td>\n",
              "      <td>192</td>\n",
              "      <td>135</td>\n",
              "      <td>31</td>\n",
              "      <td>1</td>\n",
              "      <td>25</td>\n",
              "      <td>98</td>\n",
              "      <td>94</td>\n",
              "      <td>66</td>\n",
              "    </tr>\n",
              "    <tr>\n",
              "      <th>75</th>\n",
              "      <td>29</td>\n",
              "      <td>155</td>\n",
              "      <td>569</td>\n",
              "      <td>654</td>\n",
              "      <td>139</td>\n",
              "      <td>95</td>\n",
              "      <td>23</td>\n",
              "      <td>2</td>\n",
              "      <td>19</td>\n",
              "      <td>77</td>\n",
              "      <td>71</td>\n",
              "      <td>71</td>\n",
              "    </tr>\n",
              "    <tr>\n",
              "      <th>9</th>\n",
              "      <td>27</td>\n",
              "      <td>147</td>\n",
              "      <td>508</td>\n",
              "      <td>605</td>\n",
              "      <td>153</td>\n",
              "      <td>86</td>\n",
              "      <td>41</td>\n",
              "      <td>1</td>\n",
              "      <td>25</td>\n",
              "      <td>81</td>\n",
              "      <td>100</td>\n",
              "      <td>84</td>\n",
              "    </tr>\n",
              "    <tr>\n",
              "      <th>68</th>\n",
              "      <td>26</td>\n",
              "      <td>139</td>\n",
              "      <td>582</td>\n",
              "      <td>633</td>\n",
              "      <td>144</td>\n",
              "      <td>112</td>\n",
              "      <td>17</td>\n",
              "      <td>11</td>\n",
              "      <td>4</td>\n",
              "      <td>85</td>\n",
              "      <td>38</td>\n",
              "      <td>44</td>\n",
              "    </tr>\n",
              "    <tr>\n",
              "      <th>...</th>\n",
              "      <td>...</td>\n",
              "      <td>...</td>\n",
              "      <td>...</td>\n",
              "      <td>...</td>\n",
              "      <td>...</td>\n",
              "      <td>...</td>\n",
              "      <td>...</td>\n",
              "      <td>...</td>\n",
              "      <td>...</td>\n",
              "      <td>...</td>\n",
              "      <td>...</td>\n",
              "      <td>...</td>\n",
              "    </tr>\n",
              "    <tr>\n",
              "      <th>20</th>\n",
              "      <td>28</td>\n",
              "      <td>134</td>\n",
              "      <td>455</td>\n",
              "      <td>515</td>\n",
              "      <td>138</td>\n",
              "      <td>81</td>\n",
              "      <td>34</td>\n",
              "      <td>0</td>\n",
              "      <td>23</td>\n",
              "      <td>67</td>\n",
              "      <td>90</td>\n",
              "      <td>49</td>\n",
              "    </tr>\n",
              "    <tr>\n",
              "      <th>60</th>\n",
              "      <td>33</td>\n",
              "      <td>139</td>\n",
              "      <td>529</td>\n",
              "      <td>564</td>\n",
              "      <td>158</td>\n",
              "      <td>96</td>\n",
              "      <td>43</td>\n",
              "      <td>1</td>\n",
              "      <td>18</td>\n",
              "      <td>69</td>\n",
              "      <td>75</td>\n",
              "      <td>22</td>\n",
              "    </tr>\n",
              "    <tr>\n",
              "      <th>71</th>\n",
              "      <td>25</td>\n",
              "      <td>157</td>\n",
              "      <td>614</td>\n",
              "      <td>665</td>\n",
              "      <td>167</td>\n",
              "      <td>95</td>\n",
              "      <td>36</td>\n",
              "      <td>10</td>\n",
              "      <td>26</td>\n",
              "      <td>73</td>\n",
              "      <td>101</td>\n",
              "      <td>41</td>\n",
              "    </tr>\n",
              "    <tr>\n",
              "      <th>14</th>\n",
              "      <td>27</td>\n",
              "      <td>158</td>\n",
              "      <td>589</td>\n",
              "      <td>647</td>\n",
              "      <td>164</td>\n",
              "      <td>110</td>\n",
              "      <td>38</td>\n",
              "      <td>2</td>\n",
              "      <td>14</td>\n",
              "      <td>77</td>\n",
              "      <td>69</td>\n",
              "      <td>47</td>\n",
              "    </tr>\n",
              "    <tr>\n",
              "      <th>51</th>\n",
              "      <td>34</td>\n",
              "      <td>157</td>\n",
              "      <td>554</td>\n",
              "      <td>669</td>\n",
              "      <td>143</td>\n",
              "      <td>84</td>\n",
              "      <td>20</td>\n",
              "      <td>1</td>\n",
              "      <td>38</td>\n",
              "      <td>96</td>\n",
              "      <td>107</td>\n",
              "      <td>104</td>\n",
              "    </tr>\n",
              "  </tbody>\n",
              "</table>\n",
              "<p>63 rows × 12 columns</p>\n",
              "</div>\n",
              "    <div class=\"colab-df-buttons\">\n",
              "\n",
              "  <div class=\"colab-df-container\">\n",
              "    <button class=\"colab-df-convert\" onclick=\"convertToInteractive('df-92ad26f3-c4ec-4000-abba-4d19f89bc15b')\"\n",
              "            title=\"Convert this dataframe to an interactive table.\"\n",
              "            style=\"display:none;\">\n",
              "\n",
              "  <svg xmlns=\"http://www.w3.org/2000/svg\" height=\"24px\" viewBox=\"0 -960 960 960\">\n",
              "    <path d=\"M120-120v-720h720v720H120Zm60-500h600v-160H180v160Zm220 220h160v-160H400v160Zm0 220h160v-160H400v160ZM180-400h160v-160H180v160Zm440 0h160v-160H620v160ZM180-180h160v-160H180v160Zm440 0h160v-160H620v160Z\"/>\n",
              "  </svg>\n",
              "    </button>\n",
              "\n",
              "  <style>\n",
              "    .colab-df-container {\n",
              "      display:flex;\n",
              "      gap: 12px;\n",
              "    }\n",
              "\n",
              "    .colab-df-convert {\n",
              "      background-color: #E8F0FE;\n",
              "      border: none;\n",
              "      border-radius: 50%;\n",
              "      cursor: pointer;\n",
              "      display: none;\n",
              "      fill: #1967D2;\n",
              "      height: 32px;\n",
              "      padding: 0 0 0 0;\n",
              "      width: 32px;\n",
              "    }\n",
              "\n",
              "    .colab-df-convert:hover {\n",
              "      background-color: #E2EBFA;\n",
              "      box-shadow: 0px 1px 2px rgba(60, 64, 67, 0.3), 0px 1px 3px 1px rgba(60, 64, 67, 0.15);\n",
              "      fill: #174EA6;\n",
              "    }\n",
              "\n",
              "    .colab-df-buttons div {\n",
              "      margin-bottom: 4px;\n",
              "    }\n",
              "\n",
              "    [theme=dark] .colab-df-convert {\n",
              "      background-color: #3B4455;\n",
              "      fill: #D2E3FC;\n",
              "    }\n",
              "\n",
              "    [theme=dark] .colab-df-convert:hover {\n",
              "      background-color: #434B5C;\n",
              "      box-shadow: 0px 1px 3px 1px rgba(0, 0, 0, 0.15);\n",
              "      filter: drop-shadow(0px 1px 2px rgba(0, 0, 0, 0.3));\n",
              "      fill: #FFFFFF;\n",
              "    }\n",
              "  </style>\n",
              "\n",
              "    <script>\n",
              "      const buttonEl =\n",
              "        document.querySelector('#df-92ad26f3-c4ec-4000-abba-4d19f89bc15b button.colab-df-convert');\n",
              "      buttonEl.style.display =\n",
              "        google.colab.kernel.accessAllowed ? 'block' : 'none';\n",
              "\n",
              "      async function convertToInteractive(key) {\n",
              "        const element = document.querySelector('#df-92ad26f3-c4ec-4000-abba-4d19f89bc15b');\n",
              "        const dataTable =\n",
              "          await google.colab.kernel.invokeFunction('convertToInteractive',\n",
              "                                                    [key], {});\n",
              "        if (!dataTable) return;\n",
              "\n",
              "        const docLinkHtml = 'Like what you see? Visit the ' +\n",
              "          '<a target=\"_blank\" href=https://colab.research.google.com/notebooks/data_table.ipynb>data table notebook</a>'\n",
              "          + ' to learn more about interactive tables.';\n",
              "        element.innerHTML = '';\n",
              "        dataTable['output_type'] = 'display_data';\n",
              "        await google.colab.output.renderOutput(dataTable, element);\n",
              "        const docLink = document.createElement('div');\n",
              "        docLink.innerHTML = docLinkHtml;\n",
              "        element.appendChild(docLink);\n",
              "      }\n",
              "    </script>\n",
              "  </div>\n",
              "\n",
              "\n",
              "<div id=\"df-dec3e718-9e25-43a5-a55e-49241d40864c\">\n",
              "  <button class=\"colab-df-quickchart\" onclick=\"quickchart('df-dec3e718-9e25-43a5-a55e-49241d40864c')\"\n",
              "            title=\"Suggest charts\"\n",
              "            style=\"display:none;\">\n",
              "\n",
              "<svg xmlns=\"http://www.w3.org/2000/svg\" height=\"24px\"viewBox=\"0 0 24 24\"\n",
              "     width=\"24px\">\n",
              "    <g>\n",
              "        <path d=\"M19 3H5c-1.1 0-2 .9-2 2v14c0 1.1.9 2 2 2h14c1.1 0 2-.9 2-2V5c0-1.1-.9-2-2-2zM9 17H7v-7h2v7zm4 0h-2V7h2v10zm4 0h-2v-4h2v4z\"/>\n",
              "    </g>\n",
              "</svg>\n",
              "  </button>\n",
              "\n",
              "<style>\n",
              "  .colab-df-quickchart {\n",
              "      --bg-color: #E8F0FE;\n",
              "      --fill-color: #1967D2;\n",
              "      --hover-bg-color: #E2EBFA;\n",
              "      --hover-fill-color: #174EA6;\n",
              "      --disabled-fill-color: #AAA;\n",
              "      --disabled-bg-color: #DDD;\n",
              "  }\n",
              "\n",
              "  [theme=dark] .colab-df-quickchart {\n",
              "      --bg-color: #3B4455;\n",
              "      --fill-color: #D2E3FC;\n",
              "      --hover-bg-color: #434B5C;\n",
              "      --hover-fill-color: #FFFFFF;\n",
              "      --disabled-bg-color: #3B4455;\n",
              "      --disabled-fill-color: #666;\n",
              "  }\n",
              "\n",
              "  .colab-df-quickchart {\n",
              "    background-color: var(--bg-color);\n",
              "    border: none;\n",
              "    border-radius: 50%;\n",
              "    cursor: pointer;\n",
              "    display: none;\n",
              "    fill: var(--fill-color);\n",
              "    height: 32px;\n",
              "    padding: 0;\n",
              "    width: 32px;\n",
              "  }\n",
              "\n",
              "  .colab-df-quickchart:hover {\n",
              "    background-color: var(--hover-bg-color);\n",
              "    box-shadow: 0 1px 2px rgba(60, 64, 67, 0.3), 0 1px 3px 1px rgba(60, 64, 67, 0.15);\n",
              "    fill: var(--button-hover-fill-color);\n",
              "  }\n",
              "\n",
              "  .colab-df-quickchart-complete:disabled,\n",
              "  .colab-df-quickchart-complete:disabled:hover {\n",
              "    background-color: var(--disabled-bg-color);\n",
              "    fill: var(--disabled-fill-color);\n",
              "    box-shadow: none;\n",
              "  }\n",
              "\n",
              "  .colab-df-spinner {\n",
              "    border: 2px solid var(--fill-color);\n",
              "    border-color: transparent;\n",
              "    border-bottom-color: var(--fill-color);\n",
              "    animation:\n",
              "      spin 1s steps(1) infinite;\n",
              "  }\n",
              "\n",
              "  @keyframes spin {\n",
              "    0% {\n",
              "      border-color: transparent;\n",
              "      border-bottom-color: var(--fill-color);\n",
              "      border-left-color: var(--fill-color);\n",
              "    }\n",
              "    20% {\n",
              "      border-color: transparent;\n",
              "      border-left-color: var(--fill-color);\n",
              "      border-top-color: var(--fill-color);\n",
              "    }\n",
              "    30% {\n",
              "      border-color: transparent;\n",
              "      border-left-color: var(--fill-color);\n",
              "      border-top-color: var(--fill-color);\n",
              "      border-right-color: var(--fill-color);\n",
              "    }\n",
              "    40% {\n",
              "      border-color: transparent;\n",
              "      border-right-color: var(--fill-color);\n",
              "      border-top-color: var(--fill-color);\n",
              "    }\n",
              "    60% {\n",
              "      border-color: transparent;\n",
              "      border-right-color: var(--fill-color);\n",
              "    }\n",
              "    80% {\n",
              "      border-color: transparent;\n",
              "      border-right-color: var(--fill-color);\n",
              "      border-bottom-color: var(--fill-color);\n",
              "    }\n",
              "    90% {\n",
              "      border-color: transparent;\n",
              "      border-bottom-color: var(--fill-color);\n",
              "    }\n",
              "  }\n",
              "</style>\n",
              "\n",
              "  <script>\n",
              "    async function quickchart(key) {\n",
              "      const quickchartButtonEl =\n",
              "        document.querySelector('#' + key + ' button');\n",
              "      quickchartButtonEl.disabled = true;  // To prevent multiple clicks.\n",
              "      quickchartButtonEl.classList.add('colab-df-spinner');\n",
              "      try {\n",
              "        const charts = await google.colab.kernel.invokeFunction(\n",
              "            'suggestCharts', [key], {});\n",
              "      } catch (error) {\n",
              "        console.error('Error during call to suggestCharts:', error);\n",
              "      }\n",
              "      quickchartButtonEl.classList.remove('colab-df-spinner');\n",
              "      quickchartButtonEl.classList.add('colab-df-quickchart-complete');\n",
              "    }\n",
              "    (() => {\n",
              "      let quickchartButtonEl =\n",
              "        document.querySelector('#df-dec3e718-9e25-43a5-a55e-49241d40864c button');\n",
              "      quickchartButtonEl.style.display =\n",
              "        google.colab.kernel.accessAllowed ? 'block' : 'none';\n",
              "    })();\n",
              "  </script>\n",
              "</div>\n",
              "    </div>\n",
              "  </div>\n"
            ]
          },
          "metadata": {},
          "execution_count": 10
        }
      ]
    },
    {
      "cell_type": "code",
      "source": [
        "from sklearn.preprocessing import StandardScaler\n",
        "from sklearn.pipeline import make_pipeline\n",
        "\n",
        "pipeline = make_pipeline(StandardScaler(), ElasticNet(alpha=0.01, l1_ratio=0.3))\n",
        "pipeline.fit(X_train, y_train['regVar'])\n",
        "print(f'Intercept (b) {pipeline.steps[1][1].intercept_:.6f}')\n",
        "print(pd.Series(pipeline.steps[1][1].coef_, index=X.columns),'\\n')\n",
        "y_train_pred = pipeline.predict(X_train)\n",
        "y_test_pred = pipeline.predict(X_test)\n",
        "r2_score_train = r2_score(y_train, y_train_pred)\n",
        "r2_score_test = r2_score(y_test, y_test_pred)\n",
        "MSE_train = mean_squared_error(y_train, y_train_pred)\n",
        "MSE_test = mean_squared_error(y_test, y_test_pred)\n",
        "MAE_train = mean_absolute_error(y_train, y_train_pred)\n",
        "MAE_test = mean_absolute_error(y_test, y_test_pred)\n",
        "print(f'R2 train: {r2_score_train:.3f}')\n",
        "print(f'R2 test: {r2_score_test:.3f}')\n",
        "print(f'MSE train: {MSE_train:.3f}, MSE test:{MSE_test:.3f}')\n",
        "print(f'MAE train: {MAE_train:.3f}, MAE test:{MAE_test:.3f}')"
      ],
      "metadata": {
        "colab": {
          "base_uri": "https://localhost:8080/"
        },
        "id": "Hk81-QKu_8Mr",
        "outputId": "ab0fcf1e-9f69-4d86-e070-0f030a0e2851"
      },
      "execution_count": 12,
      "outputs": [
        {
          "output_type": "stream",
          "name": "stdout",
          "text": [
            "Intercept (b) 77.825397\n",
            "Age    -5.696197\n",
            "G      -4.666502\n",
            "AB     -3.625520\n",
            "PA      6.223591\n",
            "H      -0.776016\n",
            "1B     -1.373267\n",
            "2B      2.942634\n",
            "3B      0.595805\n",
            "HR     -1.309316\n",
            "R      10.645580\n",
            "RBI     2.508201\n",
            "BB     -1.209273\n",
            "dtype: float64 \n",
            "\n",
            "R2 train: 0.573\n",
            "R2 test: 0.435\n",
            "MSE train: 124.045, MSE test:232.010\n",
            "MAE train: 8.569, MAE test:12.740\n"
          ]
        }
      ]
    },
    {
      "cell_type": "code",
      "source": [
        "from sklearn.linear_model import LinearRegression,ElasticNet,LassoCV,RidgeCV\n",
        "reg = LinearRegression().fit(X_train, y_train)\n",
        "y_pred = reg.predict(X_test)\n",
        "y_train_pred = reg.predict(X_train)\n",
        "\n",
        "from sklearn.metrics import mean_absolute_error, mean_squared_error, r2_score\n",
        "import numpy as np\n",
        "\n",
        "r2_score_train = r2_score(y_train, y_train_pred)\n",
        "r2_score_test = r2_score(y_test, y_test_pred)\n",
        "print(f'R2 train: {r2_score_train:.3f}')\n",
        "print(f'R2 test: {r2_score_test:.3f}')\n",
        "print(f'MAE = {mean_absolute_error(y_pred,y_test):.3f}')\n",
        "MSE= mean_squared_error(y_pred,y_test)\n",
        "print(f'MSE = {MSE:.3f}')\n",
        "print(f'RMSE= {np.sqrt(MSE):.3f}')"
      ],
      "metadata": {
        "colab": {
          "base_uri": "https://localhost:8080/"
        },
        "id": "iPrabPIH9YkP",
        "outputId": "fdc1148d-eb2f-4a9e-8ab6-3e5cf35b00a0"
      },
      "execution_count": 13,
      "outputs": [
        {
          "output_type": "stream",
          "name": "stdout",
          "text": [
            "R2 train: 0.577\n",
            "R2 test: 0.435\n",
            "MAE = 12.458\n",
            "MSE = 225.084\n",
            "RMSE= 15.003\n"
          ]
        }
      ]
    },
    {
      "cell_type": "code",
      "source": [
        "alphas = np.geomspace(1e-10, 1e10, num=21)\n",
        "pipeline = make_pipeline(StandardScaler(), LassoCV(alphas=alphas))\n",
        "pipeline.fit(X_train, y_train['regVar'])\n",
        "print(f'Chosen alpha  {pipeline.steps[1][1].alpha_:.6f}')\n",
        "print(f'Intercept (b) {pipeline.steps[1][1].intercept_:.6f}')\n",
        "print(pd.Series(pipeline.steps[1][1].coef_, index=X.columns),'\\n')\n",
        "y_train_pred = pipeline.predict(X_train)\n",
        "y_test_pred = pipeline.predict(X_test)\n",
        "r2_score_train = r2_score(y_train, y_train_pred)\n",
        "r2_score_test = r2_score(y_test, y_test_pred)\n",
        "MSE_train = mean_squared_error(y_train, y_train_pred)\n",
        "MSE_test = mean_squared_error(y_test, y_test_pred)\n",
        "MAE_train = mean_absolute_error(y_train, y_train_pred)\n",
        "MAE_test = mean_absolute_error(y_test, y_test_pred)\n",
        "print(f'R2 train: {r2_score_train:.3f}')\n",
        "print(f'R2 test: {r2_score_test:.3f}')\n",
        "print(f'MSE train: {MSE_train:.3f}, MSE test:{MSE_test:.3f}')\n",
        "print(f'MAE train: {MAE_train:.3f}, MAE test:{MAE_test:.3f}')"
      ],
      "metadata": {
        "colab": {
          "base_uri": "https://localhost:8080/"
        },
        "id": "fkBHl6PeEyzZ",
        "outputId": "026cd635-14a2-4e0c-e36b-db2203b1109f"
      },
      "execution_count": 14,
      "outputs": [
        {
          "output_type": "stream",
          "name": "stdout",
          "text": [
            "Chosen alpha  1.000000\n",
            "Intercept (b) 77.825397\n",
            "Age   -4.670097\n",
            "G     -1.615435\n",
            "AB    -0.000000\n",
            "PA     0.000000\n",
            "H     -0.000000\n",
            "1B    -0.055221\n",
            "2B     1.999226\n",
            "3B     0.000000\n",
            "HR     0.000000\n",
            "R      9.743317\n",
            "RBI    1.099380\n",
            "BB     0.000000\n",
            "dtype: float64 \n",
            "\n",
            "R2 train: 0.541\n",
            "R2 test: 0.389\n",
            "MSE train: 133.372, MSE test:250.975\n",
            "MAE train: 9.155, MAE test:13.011\n"
          ]
        },
        {
          "output_type": "stream",
          "name": "stderr",
          "text": [
            "/usr/local/lib/python3.10/dist-packages/sklearn/linear_model/_coordinate_descent.py:617: ConvergenceWarning: Objective did not converge. You might want to increase the number of iterations. Duality gap: 10.073160973483937, tolerance: 1.631832\n",
            "  model = cd_fast.enet_coordinate_descent_gram(\n",
            "/usr/local/lib/python3.10/dist-packages/sklearn/linear_model/_coordinate_descent.py:617: ConvergenceWarning: Objective did not converge. You might want to increase the number of iterations. Duality gap: 60.74198608019833, tolerance: 1.631832\n",
            "  model = cd_fast.enet_coordinate_descent_gram(\n",
            "/usr/local/lib/python3.10/dist-packages/sklearn/linear_model/_coordinate_descent.py:617: ConvergenceWarning: Objective did not converge. You might want to increase the number of iterations. Duality gap: 66.50684877211825, tolerance: 1.631832\n",
            "  model = cd_fast.enet_coordinate_descent_gram(\n",
            "/usr/local/lib/python3.10/dist-packages/sklearn/linear_model/_coordinate_descent.py:617: ConvergenceWarning: Objective did not converge. You might want to increase the number of iterations. Duality gap: 67.01220916903458, tolerance: 1.631832\n",
            "  model = cd_fast.enet_coordinate_descent_gram(\n",
            "/usr/local/lib/python3.10/dist-packages/sklearn/linear_model/_coordinate_descent.py:617: ConvergenceWarning: Objective did not converge. You might want to increase the number of iterations. Duality gap: 67.05586366548687, tolerance: 1.631832\n",
            "  model = cd_fast.enet_coordinate_descent_gram(\n",
            "/usr/local/lib/python3.10/dist-packages/sklearn/linear_model/_coordinate_descent.py:617: ConvergenceWarning: Objective did not converge. You might want to increase the number of iterations. Duality gap: 67.06145421860492, tolerance: 1.631832\n",
            "  model = cd_fast.enet_coordinate_descent_gram(\n",
            "/usr/local/lib/python3.10/dist-packages/sklearn/linear_model/_coordinate_descent.py:617: ConvergenceWarning: Objective did not converge. You might want to increase the number of iterations. Duality gap: 67.06199766754071, tolerance: 1.631832\n",
            "  model = cd_fast.enet_coordinate_descent_gram(\n",
            "/usr/local/lib/python3.10/dist-packages/sklearn/linear_model/_coordinate_descent.py:617: ConvergenceWarning: Objective did not converge. You might want to increase the number of iterations. Duality gap: 67.00188917584637, tolerance: 1.631832\n",
            "  model = cd_fast.enet_coordinate_descent_gram(\n",
            "/usr/local/lib/python3.10/dist-packages/sklearn/linear_model/_coordinate_descent.py:617: ConvergenceWarning: Objective did not converge. You might want to increase the number of iterations. Duality gap: 47.648667393734286, tolerance: 1.169272\n",
            "  model = cd_fast.enet_coordinate_descent_gram(\n",
            "/usr/local/lib/python3.10/dist-packages/sklearn/linear_model/_coordinate_descent.py:617: ConvergenceWarning: Objective did not converge. You might want to increase the number of iterations. Duality gap: 130.6300340578191, tolerance: 1.169272\n",
            "  model = cd_fast.enet_coordinate_descent_gram(\n",
            "/usr/local/lib/python3.10/dist-packages/sklearn/linear_model/_coordinate_descent.py:617: ConvergenceWarning: Objective did not converge. You might want to increase the number of iterations. Duality gap: 146.14710078023927, tolerance: 1.169272\n",
            "  model = cd_fast.enet_coordinate_descent_gram(\n",
            "/usr/local/lib/python3.10/dist-packages/sklearn/linear_model/_coordinate_descent.py:617: ConvergenceWarning: Objective did not converge. You might want to increase the number of iterations. Duality gap: 148.80615308290908, tolerance: 1.169272\n",
            "  model = cd_fast.enet_coordinate_descent_gram(\n",
            "/usr/local/lib/python3.10/dist-packages/sklearn/linear_model/_coordinate_descent.py:617: ConvergenceWarning: Objective did not converge. You might want to increase the number of iterations. Duality gap: 149.25434742429115, tolerance: 1.169272\n",
            "  model = cd_fast.enet_coordinate_descent_gram(\n",
            "/usr/local/lib/python3.10/dist-packages/sklearn/linear_model/_coordinate_descent.py:617: ConvergenceWarning: Objective did not converge. You might want to increase the number of iterations. Duality gap: 149.32951854984822, tolerance: 1.169272\n",
            "  model = cd_fast.enet_coordinate_descent_gram(\n",
            "/usr/local/lib/python3.10/dist-packages/sklearn/linear_model/_coordinate_descent.py:617: ConvergenceWarning: Objective did not converge. You might want to increase the number of iterations. Duality gap: 149.342644040712, tolerance: 1.169272\n",
            "  model = cd_fast.enet_coordinate_descent_gram(\n",
            "/usr/local/lib/python3.10/dist-packages/sklearn/linear_model/_coordinate_descent.py:617: ConvergenceWarning: Objective did not converge. You might want to increase the number of iterations. Duality gap: 149.33567298942125, tolerance: 1.169272\n",
            "  model = cd_fast.enet_coordinate_descent_gram(\n",
            "/usr/local/lib/python3.10/dist-packages/sklearn/linear_model/_coordinate_descent.py:617: ConvergenceWarning: Objective did not converge. You might want to increase the number of iterations. Duality gap: 149.63648883153974, tolerance: 1.169272\n",
            "  model = cd_fast.enet_coordinate_descent_gram(\n",
            "/usr/local/lib/python3.10/dist-packages/sklearn/linear_model/_coordinate_descent.py:617: ConvergenceWarning: Objective did not converge. You might want to increase the number of iterations. Duality gap: 2.9074954340239856, tolerance: 1.5207920000000001\n",
            "  model = cd_fast.enet_coordinate_descent_gram(\n",
            "/usr/local/lib/python3.10/dist-packages/sklearn/linear_model/_coordinate_descent.py:617: ConvergenceWarning: Objective did not converge. You might want to increase the number of iterations. Duality gap: 68.12947466337937, tolerance: 1.5207920000000001\n",
            "  model = cd_fast.enet_coordinate_descent_gram(\n",
            "/usr/local/lib/python3.10/dist-packages/sklearn/linear_model/_coordinate_descent.py:617: ConvergenceWarning: Objective did not converge. You might want to increase the number of iterations. Duality gap: 163.0188238186829, tolerance: 1.5207920000000001\n",
            "  model = cd_fast.enet_coordinate_descent_gram(\n",
            "/usr/local/lib/python3.10/dist-packages/sklearn/linear_model/_coordinate_descent.py:617: ConvergenceWarning: Objective did not converge. You might want to increase the number of iterations. Duality gap: 176.9840532035978, tolerance: 1.5207920000000001\n",
            "  model = cd_fast.enet_coordinate_descent_gram(\n",
            "/usr/local/lib/python3.10/dist-packages/sklearn/linear_model/_coordinate_descent.py:617: ConvergenceWarning: Objective did not converge. You might want to increase the number of iterations. Duality gap: 178.849855757956, tolerance: 1.5207920000000001\n",
            "  model = cd_fast.enet_coordinate_descent_gram(\n",
            "/usr/local/lib/python3.10/dist-packages/sklearn/linear_model/_coordinate_descent.py:617: ConvergenceWarning: Objective did not converge. You might want to increase the number of iterations. Duality gap: 179.09717639974497, tolerance: 1.5207920000000001\n",
            "  model = cd_fast.enet_coordinate_descent_gram(\n",
            "/usr/local/lib/python3.10/dist-packages/sklearn/linear_model/_coordinate_descent.py:617: ConvergenceWarning: Objective did not converge. You might want to increase the number of iterations. Duality gap: 179.12928705949525, tolerance: 1.5207920000000001\n",
            "  model = cd_fast.enet_coordinate_descent_gram(\n",
            "/usr/local/lib/python3.10/dist-packages/sklearn/linear_model/_coordinate_descent.py:617: ConvergenceWarning: Objective did not converge. You might want to increase the number of iterations. Duality gap: 179.14720706281423, tolerance: 1.5207920000000001\n",
            "  model = cd_fast.enet_coordinate_descent_gram(\n",
            "/usr/local/lib/python3.10/dist-packages/sklearn/linear_model/_coordinate_descent.py:617: ConvergenceWarning: Objective did not converge. You might want to increase the number of iterations. Duality gap: 179.09767595755784, tolerance: 1.5207920000000001\n",
            "  model = cd_fast.enet_coordinate_descent_gram(\n",
            "/usr/local/lib/python3.10/dist-packages/sklearn/linear_model/_coordinate_descent.py:617: ConvergenceWarning: Objective did not converge. You might want to increase the number of iterations. Duality gap: 38.16513842957647, tolerance: 1.5029333333333337\n",
            "  model = cd_fast.enet_coordinate_descent_gram(\n",
            "/usr/local/lib/python3.10/dist-packages/sklearn/linear_model/_coordinate_descent.py:617: ConvergenceWarning: Objective did not converge. You might want to increase the number of iterations. Duality gap: 80.47020123983475, tolerance: 1.5029333333333337\n",
            "  model = cd_fast.enet_coordinate_descent_gram(\n",
            "/usr/local/lib/python3.10/dist-packages/sklearn/linear_model/_coordinate_descent.py:617: ConvergenceWarning: Objective did not converge. You might want to increase the number of iterations. Duality gap: 84.63852794405193, tolerance: 1.5029333333333337\n",
            "  model = cd_fast.enet_coordinate_descent_gram(\n",
            "/usr/local/lib/python3.10/dist-packages/sklearn/linear_model/_coordinate_descent.py:617: ConvergenceWarning: Objective did not converge. You might want to increase the number of iterations. Duality gap: 85.01558253309031, tolerance: 1.5029333333333337\n",
            "  model = cd_fast.enet_coordinate_descent_gram(\n",
            "/usr/local/lib/python3.10/dist-packages/sklearn/linear_model/_coordinate_descent.py:617: ConvergenceWarning: Objective did not converge. You might want to increase the number of iterations. Duality gap: 85.04950216655197, tolerance: 1.5029333333333337\n",
            "  model = cd_fast.enet_coordinate_descent_gram(\n",
            "/usr/local/lib/python3.10/dist-packages/sklearn/linear_model/_coordinate_descent.py:617: ConvergenceWarning: Objective did not converge. You might want to increase the number of iterations. Duality gap: 85.05229540638084, tolerance: 1.5029333333333337\n",
            "  model = cd_fast.enet_coordinate_descent_gram(\n",
            "/usr/local/lib/python3.10/dist-packages/sklearn/linear_model/_coordinate_descent.py:617: ConvergenceWarning: Objective did not converge. You might want to increase the number of iterations. Duality gap: 85.05540320369892, tolerance: 1.5029333333333337\n",
            "  model = cd_fast.enet_coordinate_descent_gram(\n",
            "/usr/local/lib/python3.10/dist-packages/sklearn/linear_model/_coordinate_descent.py:617: ConvergenceWarning: Objective did not converge. You might want to increase the number of iterations. Duality gap: 85.02542184606136, tolerance: 1.5029333333333337\n",
            "  model = cd_fast.enet_coordinate_descent_gram(\n",
            "/usr/local/lib/python3.10/dist-packages/sklearn/linear_model/_coordinate_descent.py:617: ConvergenceWarning: Objective did not converge. You might want to increase the number of iterations. Duality gap: 85.20842340017225, tolerance: 1.5029333333333337\n",
            "  model = cd_fast.enet_coordinate_descent_gram(\n",
            "/usr/local/lib/python3.10/dist-packages/sklearn/linear_model/_coordinate_descent.py:617: ConvergenceWarning: Objective did not converge. You might want to increase the number of iterations. Duality gap: 10.162488375403882, tolerance: 1.461450980392157\n",
            "  model = cd_fast.enet_coordinate_descent_gram(\n",
            "/usr/local/lib/python3.10/dist-packages/sklearn/linear_model/_coordinate_descent.py:617: ConvergenceWarning: Objective did not converge. You might want to increase the number of iterations. Duality gap: 49.158697335777106, tolerance: 1.461450980392157\n",
            "  model = cd_fast.enet_coordinate_descent_gram(\n",
            "/usr/local/lib/python3.10/dist-packages/sklearn/linear_model/_coordinate_descent.py:617: ConvergenceWarning: Objective did not converge. You might want to increase the number of iterations. Duality gap: 52.84663599146916, tolerance: 1.461450980392157\n",
            "  model = cd_fast.enet_coordinate_descent_gram(\n",
            "/usr/local/lib/python3.10/dist-packages/sklearn/linear_model/_coordinate_descent.py:617: ConvergenceWarning: Objective did not converge. You might want to increase the number of iterations. Duality gap: 53.12281146814439, tolerance: 1.461450980392157\n",
            "  model = cd_fast.enet_coordinate_descent_gram(\n",
            "/usr/local/lib/python3.10/dist-packages/sklearn/linear_model/_coordinate_descent.py:617: ConvergenceWarning: Objective did not converge. You might want to increase the number of iterations. Duality gap: 53.14306375498472, tolerance: 1.461450980392157\n",
            "  model = cd_fast.enet_coordinate_descent_gram(\n",
            "/usr/local/lib/python3.10/dist-packages/sklearn/linear_model/_coordinate_descent.py:617: ConvergenceWarning: Objective did not converge. You might want to increase the number of iterations. Duality gap: 53.14480692756206, tolerance: 1.461450980392157\n",
            "  model = cd_fast.enet_coordinate_descent_gram(\n",
            "/usr/local/lib/python3.10/dist-packages/sklearn/linear_model/_coordinate_descent.py:617: ConvergenceWarning: Objective did not converge. You might want to increase the number of iterations. Duality gap: 53.144426973113696, tolerance: 1.461450980392157\n",
            "  model = cd_fast.enet_coordinate_descent_gram(\n",
            "/usr/local/lib/python3.10/dist-packages/sklearn/linear_model/_coordinate_descent.py:617: ConvergenceWarning: Objective did not converge. You might want to increase the number of iterations. Duality gap: 53.13583380824457, tolerance: 1.461450980392157\n",
            "  model = cd_fast.enet_coordinate_descent_gram(\n",
            "/usr/local/lib/python3.10/dist-packages/sklearn/linear_model/_coordinate_descent.py:617: ConvergenceWarning: Objective did not converge. You might want to increase the number of iterations. Duality gap: 53.29100419437145, tolerance: 1.461450980392157\n",
            "  model = cd_fast.enet_coordinate_descent_gram(\n"
          ]
        }
      ]
    },
    {
      "cell_type": "code",
      "source": [
        "alphas = np.geomspace(1e-10, 1e10, num=100)\n",
        "pipeline = make_pipeline(StandardScaler(), RidgeCV(alphas=alphas))\n",
        "pipeline.fit(X_train, y_train['regVar'])\n",
        "print(f'Chosen alpha  {pipeline.steps[1][1].alpha_:.6f}')\n",
        "print(f'Intercept (b) {pipeline.steps[1][1].intercept_:.6f}')\n",
        "print(pd.Series(pipeline.steps[1][1].coef_, index=X.columns),'\\n')\n",
        "y_train_pred = pipeline.predict(X_train)\n",
        "y_test_pred = pipeline.predict(X_test)\n",
        "r2_score_train = r2_score(y_train, y_train_pred)\n",
        "r2_score_test = r2_score(y_test, y_test_pred)\n",
        "MSE_train = mean_squared_error(y_train, y_train_pred)\n",
        "MSE_test = mean_squared_error(y_test, y_test_pred)\n",
        "MAE_train = mean_absolute_error(y_train, y_train_pred)\n",
        "MAE_test = mean_absolute_error(y_test, y_test_pred)\n",
        "print(f'R2 train: {r2_score_train:.3f}')\n",
        "print(f'R2 test: {r2_score_test:.3f}')\n",
        "print(f'MSE train: {MSE_train:.3f}, MSE test:{MSE_test:.3f}')\n",
        "print(f'MAE train: {MAE_train:.3f}, MAE test:{MAE_test:.3f}')"
      ],
      "metadata": {
        "colab": {
          "base_uri": "https://localhost:8080/"
        },
        "id": "Tj0MKHF7FD4q",
        "outputId": "fb3435c1-e7e5-4518-bf1b-ea61ee361e3e"
      },
      "execution_count": 15,
      "outputs": [
        {
          "output_type": "stream",
          "name": "stdout",
          "text": [
            "Chosen alpha  20.565123\n",
            "Intercept (b) 77.825397\n",
            "Age   -4.027652\n",
            "G     -2.428085\n",
            "AB     0.019197\n",
            "PA     1.032074\n",
            "H      1.306022\n",
            "1B    -0.538451\n",
            "2B     2.145702\n",
            "3B     1.690721\n",
            "HR     1.703217\n",
            "R      5.455766\n",
            "RBI    1.069286\n",
            "BB     1.660112\n",
            "dtype: float64 \n",
            "\n",
            "R2 train: 0.530\n",
            "R2 test: 0.329\n",
            "MSE train: 136.504, MSE test:275.504\n",
            "MAE train: 9.283, MAE test:13.663\n"
          ]
        }
      ]
    },
    {
      "cell_type": "code",
      "source": [
        "from sklearn.ensemble import RandomForestClassifier\n",
        "from sklearn.datasets import make_classification\n",
        "clf = RandomForestClassifier(max_depth=2, random_state=0)\n",
        "clf.fit(X_train, y_train['regVar'])\n",
        "y_train_pred = clf.predict(X_train)\n",
        "y_test_pred = clf.predict(X_test)\n",
        "r2_score_train = r2_score(y_train, y_train_pred)\n",
        "r2_score_test = r2_score(y_test, y_test_pred)\n",
        "MSE_train = mean_squared_error(y_train, y_train_pred)\n",
        "MSE_test = mean_squared_error(y_test, y_test_pred)\n",
        "MAE_train = mean_absolute_error(y_train, y_train_pred)\n",
        "MAE_test = mean_absolute_error(y_test, y_test_pred)\n",
        "print(f'R2 train: {r2_score_train:.3f}')\n",
        "print(f'R2 test: {r2_score_test:.3f}')\n",
        "print(f'MSE train: {MSE_train:.3f}, MSE test:{MSE_test:.3f}')\n",
        "print(f'MAE train: {MAE_train:.3f}, MAE test:{MAE_test:.3f}')"
      ],
      "metadata": {
        "colab": {
          "base_uri": "https://localhost:8080/"
        },
        "id": "b03bR5ohxjsM",
        "outputId": "07affcd6-05ff-48a3-ebba-53a77ffa447d"
      },
      "execution_count": 16,
      "outputs": [
        {
          "output_type": "stream",
          "name": "stdout",
          "text": [
            "R2 train: 0.788\n",
            "R2 test: -0.104\n",
            "MSE train: 61.492, MSE test:453.481\n",
            "MAE train: 3.365, MAE test:16.519\n"
          ]
        }
      ]
    }
  ]
}